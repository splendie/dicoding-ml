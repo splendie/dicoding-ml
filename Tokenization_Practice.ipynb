{
  "nbformat": 4,
  "nbformat_minor": 0,
  "metadata": {
    "colab": {
      "provenance": [],
      "authorship_tag": "ABX9TyOq4bQOE+ZIc3n6OT237iey",
      "include_colab_link": true
    },
    "kernelspec": {
      "name": "python3",
      "display_name": "Python 3"
    },
    "language_info": {
      "name": "python"
    }
  },
  "cells": [
    {
      "cell_type": "markdown",
      "metadata": {
        "id": "view-in-github",
        "colab_type": "text"
      },
      "source": [
        "<a href=\"https://colab.research.google.com/github/splendie/dicoding-ml/blob/main/Tokenization_Practice.ipynb\" target=\"_parent\"><img src=\"https://colab.research.google.com/assets/colab-badge.svg\" alt=\"Open In Colab\"/></a>"
      ]
    },
    {
      "cell_type": "code",
      "execution_count": 7,
      "metadata": {
        "colab": {
          "base_uri": "https://localhost:8080/"
        },
        "id": "g9BnkyB576E_",
        "outputId": "5535f802-bcc2-4596-ccc6-4464fb09dab8"
      },
      "outputs": [
        {
          "output_type": "execute_result",
          "data": {
            "text/plain": [
              "[[3, 4, 5, 2], [2, 6, 7], [8, 9, 10, 11, 12, 13]]"
            ]
          },
          "metadata": {},
          "execution_count": 7
        }
      ],
      "source": [
        "from tensorflow.keras.preprocessing.text import Tokenizer\n",
        "\n",
        "tokenizer = Tokenizer(num_words=15, oov_token='-')\n",
        "\n",
        "text = [\"Saya suka sekali programming\",\n",
        "        \"Programming itu menyenangkan\",\n",
        "        \"Machine Learning tidak seperti pemrograman biasa\"]\n",
        "\n",
        "# text = [\"Untuk melihat hasil tokenisasi, kita bisa memanggil atribut word_index dari objek tokenizer.\",\n",
        "#         \"Atribut word index mengembalikan dictionary berupa kata sebagai key dan token atau nilai numeriknya sebagai value.\",\n",
        "#         \"Perlu diperhatikan bahwa tanda baca dan huruf kapital tidak diproses oleh tokenizer.\",\n",
        "#         \"Contohnya kata \\\"Selamat!\\\" dan \\\"SELAMAT\\\" akan diperlakukan sebagai kata yang sama.\",\n",
        "#         \"Hasil dari cell di bawah menunjukkan bahwa kata-kata yang out-of-vocabulary akan diberi token bernilai 1.\"\n",
        "# ]\n",
        "\n",
        "tokenizer.fit_on_texts(text)\n",
        "\n",
        "sequences = tokenizer.texts_to_sequences(text)\n",
        "sequences\n",
        "# print(tokenizer.word_index)"
      ]
    },
    {
      "cell_type": "code",
      "source": [
        "from tensorflow.keras.preprocessing.sequence import pad_sequences\n",
        "\n",
        "sequences_samapanjang = pad_sequences(sequences, padding='post',maxlen=5,\n",
        "                                      truncating='post')\n",
        "\n",
        "sequences_samapanjang"
      ],
      "metadata": {
        "colab": {
          "base_uri": "https://localhost:8080/"
        },
        "id": "kG16ISF5-YmL",
        "outputId": "f40a32d3-791d-4000-d9b3-447b8ca8f17f"
      },
      "execution_count": 10,
      "outputs": [
        {
          "output_type": "execute_result",
          "data": {
            "text/plain": [
              "array([[ 3,  4,  5,  2,  0],\n",
              "       [ 2,  6,  7,  0,  0],\n",
              "       [ 8,  9, 10, 11, 12]], dtype=int32)"
            ]
          },
          "metadata": {},
          "execution_count": 10
        }
      ]
    }
  ]
}