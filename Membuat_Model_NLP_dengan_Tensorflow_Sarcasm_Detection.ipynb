{
  "nbformat": 4,
  "nbformat_minor": 0,
  "metadata": {
    "colab": {
      "provenance": [],
      "authorship_tag": "ABX9TyPwPZYxjQTTOBbr7vIa4lMW",
      "include_colab_link": true
    },
    "kernelspec": {
      "name": "python3",
      "display_name": "Python 3"
    },
    "language_info": {
      "name": "python"
    }
  },
  "cells": [
    {
      "cell_type": "markdown",
      "metadata": {
        "id": "view-in-github",
        "colab_type": "text"
      },
      "source": [
        "<a href=\"https://colab.research.google.com/github/splendie/dicoding-ml/blob/main/Membuat_Model_NLP_dengan_Tensorflow_Sarcasm_Detection.ipynb\" target=\"_parent\"><img src=\"https://colab.research.google.com/assets/colab-badge.svg\" alt=\"Open In Colab\"/></a>"
      ]
    },
    {
      "cell_type": "markdown",
      "source": [
        "Nama: Indri Yunita\n",
        "Domicile: Jakarta\n",
        "\n",
        "This project is an implementation of NLP model with Tensorflow for detecting sarcasm in news headline. Sarcasm is the use of irony to mock something or someone, often in a humorous way.\n",
        "\n",
        "The data is taken from [Kaggle](https://www.kaggle.com/datasets/rmisra/news-headlines-dataset-for-sarcasm-detection). This is a binary classification task, with 2 outputs: Sarcastic or Not Sarcastic.\n"
      ],
      "metadata": {
        "id": "_nLEQZLds-HG"
      }
    },
    {
      "cell_type": "code",
      "source": [
        "import pandas as pd\n",
        "import nltk\n",
        "import re\n",
        "import string\n",
        "import matplotlib.pyplot as plt\n",
        "import seaborn as sns\n",
        "import tensorflow as tf\n",
        "\n",
        "from sklearn.model_selection import train_test_split\n",
        "from sklearn.metrics import classification_report, confusion_matrix\n",
        "\n",
        "from tensorflow.keras.preprocessing.text import Tokenizer\n",
        "from tensorflow.keras.preprocessing.sequence import pad_sequences"
      ],
      "metadata": {
        "id": "KI4uzahbXkxe"
      },
      "execution_count": 6,
      "outputs": []
    },
    {
      "cell_type": "code",
      "execution_count": 7,
      "metadata": {
        "id": "Qtk1OG61dLxg",
        "colab": {
          "base_uri": "https://localhost:8080/",
          "height": 414
        },
        "outputId": "fe049ed9-8740-4f06-fb9c-d7cb6de41753"
      },
      "outputs": [
        {
          "output_type": "execute_result",
          "data": {
            "text/plain": [
              "                                        article_link  \\\n",
              "0  https://www.huffingtonpost.com/entry/versace-b...   \n",
              "1  https://www.huffingtonpost.com/entry/roseanne-...   \n",
              "2  https://local.theonion.com/mom-starting-to-fea...   \n",
              "3  https://politics.theonion.com/boehner-just-wan...   \n",
              "4  https://www.huffingtonpost.com/entry/jk-rowlin...   \n",
              "\n",
              "                                            headline  is_sarcastic  \n",
              "0  former versace store clerk sues over secret 'b...             0  \n",
              "1  the 'roseanne' revival catches up to our thorn...             0  \n",
              "2  mom starting to fear son's web series closest ...             1  \n",
              "3  boehner just wants wife to listen, not come up...             1  \n",
              "4  j.k. rowling wishes snape happy birthday in th...             0  "
            ],
            "text/html": [
              "\n",
              "  <div id=\"df-41c0bc3f-5727-4673-98cb-61af5e3fdb7e\" class=\"colab-df-container\">\n",
              "    <div>\n",
              "<style scoped>\n",
              "    .dataframe tbody tr th:only-of-type {\n",
              "        vertical-align: middle;\n",
              "    }\n",
              "\n",
              "    .dataframe tbody tr th {\n",
              "        vertical-align: top;\n",
              "    }\n",
              "\n",
              "    .dataframe thead th {\n",
              "        text-align: right;\n",
              "    }\n",
              "</style>\n",
              "<table border=\"1\" class=\"dataframe\">\n",
              "  <thead>\n",
              "    <tr style=\"text-align: right;\">\n",
              "      <th></th>\n",
              "      <th>article_link</th>\n",
              "      <th>headline</th>\n",
              "      <th>is_sarcastic</th>\n",
              "    </tr>\n",
              "  </thead>\n",
              "  <tbody>\n",
              "    <tr>\n",
              "      <th>0</th>\n",
              "      <td>https://www.huffingtonpost.com/entry/versace-b...</td>\n",
              "      <td>former versace store clerk sues over secret 'b...</td>\n",
              "      <td>0</td>\n",
              "    </tr>\n",
              "    <tr>\n",
              "      <th>1</th>\n",
              "      <td>https://www.huffingtonpost.com/entry/roseanne-...</td>\n",
              "      <td>the 'roseanne' revival catches up to our thorn...</td>\n",
              "      <td>0</td>\n",
              "    </tr>\n",
              "    <tr>\n",
              "      <th>2</th>\n",
              "      <td>https://local.theonion.com/mom-starting-to-fea...</td>\n",
              "      <td>mom starting to fear son's web series closest ...</td>\n",
              "      <td>1</td>\n",
              "    </tr>\n",
              "    <tr>\n",
              "      <th>3</th>\n",
              "      <td>https://politics.theonion.com/boehner-just-wan...</td>\n",
              "      <td>boehner just wants wife to listen, not come up...</td>\n",
              "      <td>1</td>\n",
              "    </tr>\n",
              "    <tr>\n",
              "      <th>4</th>\n",
              "      <td>https://www.huffingtonpost.com/entry/jk-rowlin...</td>\n",
              "      <td>j.k. rowling wishes snape happy birthday in th...</td>\n",
              "      <td>0</td>\n",
              "    </tr>\n",
              "  </tbody>\n",
              "</table>\n",
              "</div>\n",
              "    <div class=\"colab-df-buttons\">\n",
              "\n",
              "  <div class=\"colab-df-container\">\n",
              "    <button class=\"colab-df-convert\" onclick=\"convertToInteractive('df-41c0bc3f-5727-4673-98cb-61af5e3fdb7e')\"\n",
              "            title=\"Convert this dataframe to an interactive table.\"\n",
              "            style=\"display:none;\">\n",
              "\n",
              "  <svg xmlns=\"http://www.w3.org/2000/svg\" height=\"24px\" viewBox=\"0 -960 960 960\">\n",
              "    <path d=\"M120-120v-720h720v720H120Zm60-500h600v-160H180v160Zm220 220h160v-160H400v160Zm0 220h160v-160H400v160ZM180-400h160v-160H180v160Zm440 0h160v-160H620v160ZM180-180h160v-160H180v160Zm440 0h160v-160H620v160Z\"/>\n",
              "  </svg>\n",
              "    </button>\n",
              "\n",
              "  <style>\n",
              "    .colab-df-container {\n",
              "      display:flex;\n",
              "      gap: 12px;\n",
              "    }\n",
              "\n",
              "    .colab-df-convert {\n",
              "      background-color: #E8F0FE;\n",
              "      border: none;\n",
              "      border-radius: 50%;\n",
              "      cursor: pointer;\n",
              "      display: none;\n",
              "      fill: #1967D2;\n",
              "      height: 32px;\n",
              "      padding: 0 0 0 0;\n",
              "      width: 32px;\n",
              "    }\n",
              "\n",
              "    .colab-df-convert:hover {\n",
              "      background-color: #E2EBFA;\n",
              "      box-shadow: 0px 1px 2px rgba(60, 64, 67, 0.3), 0px 1px 3px 1px rgba(60, 64, 67, 0.15);\n",
              "      fill: #174EA6;\n",
              "    }\n",
              "\n",
              "    .colab-df-buttons div {\n",
              "      margin-bottom: 4px;\n",
              "    }\n",
              "\n",
              "    [theme=dark] .colab-df-convert {\n",
              "      background-color: #3B4455;\n",
              "      fill: #D2E3FC;\n",
              "    }\n",
              "\n",
              "    [theme=dark] .colab-df-convert:hover {\n",
              "      background-color: #434B5C;\n",
              "      box-shadow: 0px 1px 3px 1px rgba(0, 0, 0, 0.15);\n",
              "      filter: drop-shadow(0px 1px 2px rgba(0, 0, 0, 0.3));\n",
              "      fill: #FFFFFF;\n",
              "    }\n",
              "  </style>\n",
              "\n",
              "    <script>\n",
              "      const buttonEl =\n",
              "        document.querySelector('#df-41c0bc3f-5727-4673-98cb-61af5e3fdb7e button.colab-df-convert');\n",
              "      buttonEl.style.display =\n",
              "        google.colab.kernel.accessAllowed ? 'block' : 'none';\n",
              "\n",
              "      async function convertToInteractive(key) {\n",
              "        const element = document.querySelector('#df-41c0bc3f-5727-4673-98cb-61af5e3fdb7e');\n",
              "        const dataTable =\n",
              "          await google.colab.kernel.invokeFunction('convertToInteractive',\n",
              "                                                    [key], {});\n",
              "        if (!dataTable) return;\n",
              "\n",
              "        const docLinkHtml = 'Like what you see? Visit the ' +\n",
              "          '<a target=\"_blank\" href=https://colab.research.google.com/notebooks/data_table.ipynb>data table notebook</a>'\n",
              "          + ' to learn more about interactive tables.';\n",
              "        element.innerHTML = '';\n",
              "        dataTable['output_type'] = 'display_data';\n",
              "        await google.colab.output.renderOutput(dataTable, element);\n",
              "        const docLink = document.createElement('div');\n",
              "        docLink.innerHTML = docLinkHtml;\n",
              "        element.appendChild(docLink);\n",
              "      }\n",
              "    </script>\n",
              "  </div>\n",
              "\n",
              "\n",
              "<div id=\"df-16bbc055-f8d8-4c81-9753-439434964abc\">\n",
              "  <button class=\"colab-df-quickchart\" onclick=\"quickchart('df-16bbc055-f8d8-4c81-9753-439434964abc')\"\n",
              "            title=\"Suggest charts\"\n",
              "            style=\"display:none;\">\n",
              "\n",
              "<svg xmlns=\"http://www.w3.org/2000/svg\" height=\"24px\"viewBox=\"0 0 24 24\"\n",
              "     width=\"24px\">\n",
              "    <g>\n",
              "        <path d=\"M19 3H5c-1.1 0-2 .9-2 2v14c0 1.1.9 2 2 2h14c1.1 0 2-.9 2-2V5c0-1.1-.9-2-2-2zM9 17H7v-7h2v7zm4 0h-2V7h2v10zm4 0h-2v-4h2v4z\"/>\n",
              "    </g>\n",
              "</svg>\n",
              "  </button>\n",
              "\n",
              "<style>\n",
              "  .colab-df-quickchart {\n",
              "      --bg-color: #E8F0FE;\n",
              "      --fill-color: #1967D2;\n",
              "      --hover-bg-color: #E2EBFA;\n",
              "      --hover-fill-color: #174EA6;\n",
              "      --disabled-fill-color: #AAA;\n",
              "      --disabled-bg-color: #DDD;\n",
              "  }\n",
              "\n",
              "  [theme=dark] .colab-df-quickchart {\n",
              "      --bg-color: #3B4455;\n",
              "      --fill-color: #D2E3FC;\n",
              "      --hover-bg-color: #434B5C;\n",
              "      --hover-fill-color: #FFFFFF;\n",
              "      --disabled-bg-color: #3B4455;\n",
              "      --disabled-fill-color: #666;\n",
              "  }\n",
              "\n",
              "  .colab-df-quickchart {\n",
              "    background-color: var(--bg-color);\n",
              "    border: none;\n",
              "    border-radius: 50%;\n",
              "    cursor: pointer;\n",
              "    display: none;\n",
              "    fill: var(--fill-color);\n",
              "    height: 32px;\n",
              "    padding: 0;\n",
              "    width: 32px;\n",
              "  }\n",
              "\n",
              "  .colab-df-quickchart:hover {\n",
              "    background-color: var(--hover-bg-color);\n",
              "    box-shadow: 0 1px 2px rgba(60, 64, 67, 0.3), 0 1px 3px 1px rgba(60, 64, 67, 0.15);\n",
              "    fill: var(--button-hover-fill-color);\n",
              "  }\n",
              "\n",
              "  .colab-df-quickchart-complete:disabled,\n",
              "  .colab-df-quickchart-complete:disabled:hover {\n",
              "    background-color: var(--disabled-bg-color);\n",
              "    fill: var(--disabled-fill-color);\n",
              "    box-shadow: none;\n",
              "  }\n",
              "\n",
              "  .colab-df-spinner {\n",
              "    border: 2px solid var(--fill-color);\n",
              "    border-color: transparent;\n",
              "    border-bottom-color: var(--fill-color);\n",
              "    animation:\n",
              "      spin 1s steps(1) infinite;\n",
              "  }\n",
              "\n",
              "  @keyframes spin {\n",
              "    0% {\n",
              "      border-color: transparent;\n",
              "      border-bottom-color: var(--fill-color);\n",
              "      border-left-color: var(--fill-color);\n",
              "    }\n",
              "    20% {\n",
              "      border-color: transparent;\n",
              "      border-left-color: var(--fill-color);\n",
              "      border-top-color: var(--fill-color);\n",
              "    }\n",
              "    30% {\n",
              "      border-color: transparent;\n",
              "      border-left-color: var(--fill-color);\n",
              "      border-top-color: var(--fill-color);\n",
              "      border-right-color: var(--fill-color);\n",
              "    }\n",
              "    40% {\n",
              "      border-color: transparent;\n",
              "      border-right-color: var(--fill-color);\n",
              "      border-top-color: var(--fill-color);\n",
              "    }\n",
              "    60% {\n",
              "      border-color: transparent;\n",
              "      border-right-color: var(--fill-color);\n",
              "    }\n",
              "    80% {\n",
              "      border-color: transparent;\n",
              "      border-right-color: var(--fill-color);\n",
              "      border-bottom-color: var(--fill-color);\n",
              "    }\n",
              "    90% {\n",
              "      border-color: transparent;\n",
              "      border-bottom-color: var(--fill-color);\n",
              "    }\n",
              "  }\n",
              "</style>\n",
              "\n",
              "  <script>\n",
              "    async function quickchart(key) {\n",
              "      const quickchartButtonEl =\n",
              "        document.querySelector('#' + key + ' button');\n",
              "      quickchartButtonEl.disabled = true;  // To prevent multiple clicks.\n",
              "      quickchartButtonEl.classList.add('colab-df-spinner');\n",
              "      try {\n",
              "        const charts = await google.colab.kernel.invokeFunction(\n",
              "            'suggestCharts', [key], {});\n",
              "      } catch (error) {\n",
              "        console.error('Error during call to suggestCharts:', error);\n",
              "      }\n",
              "      quickchartButtonEl.classList.remove('colab-df-spinner');\n",
              "      quickchartButtonEl.classList.add('colab-df-quickchart-complete');\n",
              "    }\n",
              "    (() => {\n",
              "      let quickchartButtonEl =\n",
              "        document.querySelector('#df-16bbc055-f8d8-4c81-9753-439434964abc button');\n",
              "      quickchartButtonEl.style.display =\n",
              "        google.colab.kernel.accessAllowed ? 'block' : 'none';\n",
              "    })();\n",
              "  </script>\n",
              "</div>\n",
              "    </div>\n",
              "  </div>\n"
            ]
          },
          "metadata": {},
          "execution_count": 7
        }
      ],
      "source": [
        "df = pd.read_json(\"Sarcasm_Headlines_Dataset.json\", orient=\"records\")\n",
        "df.head()\n"
      ]
    },
    {
      "cell_type": "code",
      "source": [
        "df = df.drop(columns=['article_link'])\n",
        "df.info()"
      ],
      "metadata": {
        "colab": {
          "base_uri": "https://localhost:8080/"
        },
        "id": "1rk96vd52rAF",
        "outputId": "76bc40b7-6594-40a4-c9e0-abc4b4c32370"
      },
      "execution_count": 8,
      "outputs": [
        {
          "output_type": "stream",
          "name": "stdout",
          "text": [
            "<class 'pandas.core.frame.DataFrame'>\n",
            "RangeIndex: 26709 entries, 0 to 26708\n",
            "Data columns (total 2 columns):\n",
            " #   Column        Non-Null Count  Dtype \n",
            "---  ------        --------------  ----- \n",
            " 0   headline      26709 non-null  object\n",
            " 1   is_sarcastic  26709 non-null  int64 \n",
            "dtypes: int64(1), object(1)\n",
            "memory usage: 417.5+ KB\n"
          ]
        }
      ]
    },
    {
      "cell_type": "markdown",
      "source": [],
      "metadata": {
        "id": "fhryB3nJs7Yx"
      }
    },
    {
      "cell_type": "code",
      "source": [
        "nltk.download('stopwords')\n",
        "stopwords = nltk.corpus.stopwords.words('english')\n",
        "\n",
        "def clean_text(sentences):\n",
        "    # Convert text to lowercase\n",
        "    text = sentences.lower()\n",
        "    # Remove text in square brackets\n",
        "    text = re.sub('\\[.*?\\]', '', text)\n",
        "    # Remove punctuations\n",
        "    text = re.sub('[%s]' % re.escape(string.punctuation), '', text)\n",
        "    # Remove words containing digits\n",
        "    text = re.sub('\\w*\\d\\w*', '', text)\n",
        "    # Remove stopwords\n",
        "    text = ' '.join([word for word in text.split()\n",
        "                     if word not in stopwords])\n",
        "    return text\n",
        "\n",
        "print(df['headline'].iloc[1])\n",
        "clean_text(df['headline'].iloc[1])"
      ],
      "metadata": {
        "colab": {
          "base_uri": "https://localhost:8080/",
          "height": 109
        },
        "id": "oQ9axyZzW4rV",
        "outputId": "e2599059-5f6b-43a5-e2ad-78339b6651d3"
      },
      "execution_count": 9,
      "outputs": [
        {
          "output_type": "stream",
          "name": "stdout",
          "text": [
            "the 'roseanne' revival catches up to our thorny political mood, for better and worse\n"
          ]
        },
        {
          "output_type": "stream",
          "name": "stderr",
          "text": [
            "[nltk_data] Downloading package stopwords to /root/nltk_data...\n",
            "[nltk_data]   Unzipping corpora/stopwords.zip.\n"
          ]
        },
        {
          "output_type": "execute_result",
          "data": {
            "text/plain": [
              "'roseanne revival catches thorny political mood better worse'"
            ],
            "application/vnd.google.colaboratory.intrinsic+json": {
              "type": "string"
            }
          },
          "metadata": {},
          "execution_count": 9
        }
      ]
    },
    {
      "cell_type": "code",
      "source": [
        "df['cleaned_headline']=df['headline'].map(clean_text)"
      ],
      "metadata": {
        "id": "H6rz2KleOnpM"
      },
      "execution_count": 10,
      "outputs": []
    },
    {
      "cell_type": "code",
      "source": [
        "headline = df['cleaned_headline'].values\n",
        "y = df['is_sarcastic'].values\n",
        "\n",
        "# Check data distribution between not sarcastic and sarcastic data points\n",
        "plt.figure(figsize=(10, 5))\n",
        "sns.countplot(x='is_sarcastic', data=df, palette=\"Set1\").set_title(\"Countplot of headlines\")\n",
        "plt.show()\n"
      ],
      "metadata": {
        "colab": {
          "base_uri": "https://localhost:8080/",
          "height": 357
        },
        "id": "pMKFRPS_3PLs",
        "outputId": "ddd5253e-df67-4692-8a09-391c9bd34043"
      },
      "execution_count": 11,
      "outputs": [
        {
          "output_type": "display_data",
          "data": {
            "text/plain": [
              "<Figure size 1000x500 with 1 Axes>"
            ],
            "image/png": "[encoded data removed]"
          },
          "metadata": {}
        }
      ]
    },
    {
      "cell_type": "code",
      "source": [
        "# Split data into train and test\n",
        "headline_train, headline_test, y_train, y_test = train_test_split(headline, y, test_size=0.2)\n"
      ],
      "metadata": {
        "id": "sx7EyybxUj9r"
      },
      "execution_count": 12,
      "outputs": []
    },
    {
      "cell_type": "code",
      "source": [
        "NUM_WORDS = 5000 # Parameter indicating the number of words we'll put in the dictionary\n",
        "MAX_LEN = 30 # Maximum number of words in a squence\n",
        "\n",
        "tokenizer = Tokenizer(num_words=NUM_WORDS, oov_token='-')\n",
        "tokenizer.fit_on_texts(headline_train)\n",
        "tokenizer.fit_on_texts(headline_test)\n",
        "\n",
        "seq_train = tokenizer.texts_to_sequences(headline_train)\n",
        "seq_test = tokenizer.texts_to_sequences(headline_test)\n",
        "\n",
        "seq_train[:10]"
      ],
      "metadata": {
        "colab": {
          "base_uri": "https://localhost:8080/"
        },
        "id": "pXlIdxig4shA",
        "outputId": "0651a601-58c4-4215-ee2c-2a564c0ce90f"
      },
      "execution_count": 13,
      "outputs": [
        {
          "output_type": "execute_result",
          "data": {
            "text/plain": [
              "[[2528, 1156, 344, 1, 1228, 1994],\n",
              " [1033, 103, 1],\n",
              " [4, 217, 4015, 3655, 1995, 73, 1],\n",
              " [824, 3119, 1, 33, 193, 1, 9, 17, 1],\n",
              " [1, 1184, 790, 557, 1726, 763, 240],\n",
              " [1, 1, 1, 28, 6, 291, 13],\n",
              " [3656, 693, 3383, 48, 13],\n",
              " [4442, 4953, 4954, 1, 693, 2904, 902, 764, 1],\n",
              " [3, 10, 535, 2905, 903, 259, 1328],\n",
              " [4016, 1, 1157, 2096, 655, 4443, 4955, 642]]"
            ]
          },
          "metadata": {},
          "execution_count": 13
        }
      ]
    },
    {
      "cell_type": "code",
      "source": [
        "padded_train = pad_sequences(seq_train, maxlen=30, padding='post')\n",
        "padded_test = pad_sequences(seq_test, maxlen=30, padding='post')\n",
        "\n",
        "padded_train[0:10]"
      ],
      "metadata": {
        "colab": {
          "base_uri": "https://localhost:8080/"
        },
        "id": "7V5hoHE04sxt",
        "outputId": "e13fd745-a1ec-4ffc-d69b-da4ee64a8538"
      },
      "execution_count": 14,
      "outputs": [
        {
          "output_type": "execute_result",
          "data": {
            "text/plain": [
              "array([[2528, 1156,  344,    1, 1228, 1994,    0,    0,    0,    0,    0,\n",
              "           0,    0,    0,    0,    0,    0,    0,    0,    0,    0,    0,\n",
              "           0,    0,    0,    0,    0,    0,    0,    0],\n",
              "       [1033,  103,    1,    0,    0,    0,    0,    0,    0,    0,    0,\n",
              "           0,    0,    0,    0,    0,    0,    0,    0,    0,    0,    0,\n",
              "           0,    0,    0,    0,    0,    0,    0,    0],\n",
              "       [   4,  217, 4015, 3655, 1995,   73,    1,    0,    0,    0,    0,\n",
              "           0,    0,    0,    0,    0,    0,    0,    0,    0,    0,    0,\n",
              "           0,    0,    0,    0,    0,    0,    0,    0],\n",
              "       [ 824, 3119,    1,   33,  193,    1,    9,   17,    1,    0,    0,\n",
              "           0,    0,    0,    0,    0,    0,    0,    0,    0,    0,    0,\n",
              "           0,    0,    0,    0,    0,    0,    0,    0],\n",
              "       [   1, 1184,  790,  557, 1726,  763,  240,    0,    0,    0,    0,\n",
              "           0,    0,    0,    0,    0,    0,    0,    0,    0,    0,    0,\n",
              "           0,    0,    0,    0,    0,    0,    0,    0],\n",
              "       [   1,    1,    1,   28,    6,  291,   13,    0,    0,    0,    0,\n",
              "           0,    0,    0,    0,    0,    0,    0,    0,    0,    0,    0,\n",
              "           0,    0,    0,    0,    0,    0,    0,    0],\n",
              "       [3656,  693, 3383,   48,   13,    0,    0,    0,    0,    0,    0,\n",
              "           0,    0,    0,    0,    0,    0,    0,    0,    0,    0,    0,\n",
              "           0,    0,    0,    0,    0,    0,    0,    0],\n",
              "       [4442, 4953, 4954,    1,  693, 2904,  902,  764,    1,    0,    0,\n",
              "           0,    0,    0,    0,    0,    0,    0,    0,    0,    0,    0,\n",
              "           0,    0,    0,    0,    0,    0,    0,    0],\n",
              "       [   3,   10,  535, 2905,  903,  259, 1328,    0,    0,    0,    0,\n",
              "           0,    0,    0,    0,    0,    0,    0,    0,    0,    0,    0,\n",
              "           0,    0,    0,    0,    0,    0,    0,    0],\n",
              "       [4016,    1, 1157, 2096,  655, 4443, 4955,  642,    0,    0,    0,\n",
              "           0,    0,    0,    0,    0,    0,    0,    0,    0,    0,    0,\n",
              "           0,    0,    0,    0,    0,    0,    0,    0]], dtype=int32)"
            ]
          },
          "metadata": {},
          "execution_count": 14
        }
      ]
    },
    {
      "cell_type": "code",
      "source": [
        "model = tf.keras.Sequential([\n",
        "    tf.keras.layers.Embedding(NUM_WORDS, 16, input_length=MAX_LEN),\n",
        "    tf.keras.layers.LSTM(64),\n",
        "    tf.keras.layers.Dropout(0.4),\n",
        "    tf.keras.layers.Dense(16, activation='relu'),\n",
        "    tf.keras.layers.Dropout(0.3),\n",
        "    tf.keras.layers.Dense(1, activation='sigmoid')\n",
        "])\n",
        "\n",
        "model.compile(loss='binary_crossentropy', optimizer='adam', metrics=['accuracy'])"
      ],
      "metadata": {
        "id": "ohmUzaMVASe7"
      },
      "execution_count": 20,
      "outputs": []
    },
    {
      "cell_type": "code",
      "source": [
        "class stop_training_callback(tf.keras.callbacks.Callback):\n",
        "  def on_epoch_end(self, epoch, logs = None):\n",
        "    if logs['val_accuracy'] >= 0.90 :\n",
        "      print('Training stopped')\n",
        "      self.model.stop_training = True"
      ],
      "metadata": {
        "id": "9yLZ2kOvCVVV"
      },
      "execution_count": 21,
      "outputs": []
    },
    {
      "cell_type": "code",
      "source": [
        "num_epochs = 30\n",
        "\n",
        "history = model.fit(padded_train,\n",
        "                    y_train,\n",
        "                    epochs=num_epochs,\n",
        "                    validation_data=(padded_test, y_test),\n",
        "                    verbose=2,\n",
        "                    callbacks = [stop_training_callback()])"
      ],
      "metadata": {
        "colab": {
          "base_uri": "https://localhost:8080/"
        },
        "id": "uULDT7fTBVio",
        "outputId": "10ff4cb0-e2dc-4725-af45-0ffc4bc92a99"
      },
      "execution_count": 22,
      "outputs": [
        {
          "output_type": "stream",
          "name": "stdout",
          "text": [
            "Epoch 1/30\n",
            "668/668 - 14s - loss: 0.5773 - accuracy: 0.6798 - val_loss: 0.5066 - val_accuracy: 0.7525 - 14s/epoch - 21ms/step\n",
            "Epoch 2/30\n",
            "668/668 - 11s - loss: 0.3959 - accuracy: 0.8265 - val_loss: 0.4583 - val_accuracy: 0.7834 - 11s/epoch - 16ms/step\n",
            "Epoch 3/30\n",
            "668/668 - 12s - loss: 0.3510 - accuracy: 0.8476 - val_loss: 0.4428 - val_accuracy: 0.7922 - 12s/epoch - 18ms/step\n",
            "Epoch 4/30\n",
            "668/668 - 11s - loss: 0.3306 - accuracy: 0.8590 - val_loss: 0.4588 - val_accuracy: 0.7849 - 11s/epoch - 17ms/step\n",
            "Epoch 5/30\n",
            "668/668 - 11s - loss: 0.3062 - accuracy: 0.8647 - val_loss: 0.5004 - val_accuracy: 0.7834 - 11s/epoch - 17ms/step\n",
            "Epoch 6/30\n",
            "668/668 - 11s - loss: 0.2757 - accuracy: 0.8743 - val_loss: 0.6171 - val_accuracy: 0.7881 - 11s/epoch - 17ms/step\n",
            "Epoch 7/30\n",
            "668/668 - 12s - loss: 0.2496 - accuracy: 0.8789 - val_loss: 0.6960 - val_accuracy: 0.7789 - 12s/epoch - 18ms/step\n",
            "Epoch 8/30\n",
            "668/668 - 11s - loss: 0.2249 - accuracy: 0.8890 - val_loss: 0.6417 - val_accuracy: 0.7793 - 11s/epoch - 17ms/step\n",
            "Epoch 9/30\n",
            "668/668 - 11s - loss: 0.2040 - accuracy: 0.8995 - val_loss: 0.8215 - val_accuracy: 0.7658 - 11s/epoch - 16ms/step\n",
            "Epoch 10/30\n",
            "668/668 - 11s - loss: 0.1801 - accuracy: 0.9108 - val_loss: 0.7205 - val_accuracy: 0.7656 - 11s/epoch - 16ms/step\n",
            "Epoch 11/30\n",
            "668/668 - 11s - loss: 0.1674 - accuracy: 0.9154 - val_loss: 0.9747 - val_accuracy: 0.7701 - 11s/epoch - 17ms/step\n",
            "Epoch 12/30\n",
            "668/668 - 11s - loss: 0.1586 - accuracy: 0.9194 - val_loss: 0.8268 - val_accuracy: 0.7727 - 11s/epoch - 17ms/step\n",
            "Epoch 13/30\n",
            "668/668 - 11s - loss: 0.1441 - accuracy: 0.9284 - val_loss: 1.1622 - val_accuracy: 0.7636 - 11s/epoch - 17ms/step\n",
            "Epoch 14/30\n",
            "668/668 - 11s - loss: 0.1387 - accuracy: 0.9324 - val_loss: 1.0073 - val_accuracy: 0.7668 - 11s/epoch - 17ms/step\n",
            "Epoch 15/30\n",
            "668/668 - 11s - loss: 0.1275 - accuracy: 0.9375 - val_loss: 0.9540 - val_accuracy: 0.7699 - 11s/epoch - 17ms/step\n",
            "Epoch 16/30\n",
            "668/668 - 11s - loss: 0.1245 - accuracy: 0.9407 - val_loss: 1.1776 - val_accuracy: 0.7686 - 11s/epoch - 16ms/step\n",
            "Epoch 17/30\n",
            "668/668 - 11s - loss: 0.1189 - accuracy: 0.9419 - val_loss: 1.1784 - val_accuracy: 0.7624 - 11s/epoch - 16ms/step\n",
            "Epoch 18/30\n",
            "668/668 - 11s - loss: 0.1145 - accuracy: 0.9429 - val_loss: 1.5339 - val_accuracy: 0.7583 - 11s/epoch - 17ms/step\n",
            "Epoch 19/30\n",
            "668/668 - 11s - loss: 0.1063 - accuracy: 0.9489 - val_loss: 1.2201 - val_accuracy: 0.7669 - 11s/epoch - 17ms/step\n",
            "Epoch 20/30\n",
            "668/668 - 12s - loss: 0.1012 - accuracy: 0.9503 - val_loss: 1.4287 - val_accuracy: 0.7557 - 12s/epoch - 17ms/step\n",
            "Epoch 21/30\n",
            "668/668 - 12s - loss: 0.0994 - accuracy: 0.9546 - val_loss: 1.2646 - val_accuracy: 0.7600 - 12s/epoch - 17ms/step\n",
            "Epoch 22/30\n",
            "668/668 - 13s - loss: 0.0918 - accuracy: 0.9584 - val_loss: 1.3157 - val_accuracy: 0.7580 - 13s/epoch - 19ms/step\n",
            "Epoch 23/30\n",
            "668/668 - 12s - loss: 0.0851 - accuracy: 0.9632 - val_loss: 1.2749 - val_accuracy: 0.7510 - 12s/epoch - 18ms/step\n",
            "Epoch 24/30\n",
            "668/668 - 11s - loss: 0.0781 - accuracy: 0.9660 - val_loss: 1.5478 - val_accuracy: 0.7610 - 11s/epoch - 16ms/step\n",
            "Epoch 25/30\n",
            "668/668 - 12s - loss: 0.0699 - accuracy: 0.9706 - val_loss: 1.3389 - val_accuracy: 0.7608 - 12s/epoch - 17ms/step\n",
            "Epoch 26/30\n",
            "668/668 - 12s - loss: 0.0689 - accuracy: 0.9705 - val_loss: 1.6297 - val_accuracy: 0.7608 - 12s/epoch - 17ms/step\n",
            "Epoch 27/30\n",
            "668/668 - 12s - loss: 0.0588 - accuracy: 0.9759 - val_loss: 1.9014 - val_accuracy: 0.7559 - 12s/epoch - 17ms/step\n",
            "Epoch 28/30\n",
            "668/668 - 12s - loss: 0.0576 - accuracy: 0.9782 - val_loss: 1.8781 - val_accuracy: 0.7596 - 12s/epoch - 17ms/step\n",
            "Epoch 29/30\n",
            "668/668 - 11s - loss: 0.0538 - accuracy: 0.9796 - val_loss: 1.9475 - val_accuracy: 0.7604 - 11s/epoch - 17ms/step\n",
            "Epoch 30/30\n",
            "668/668 - 11s - loss: 0.0430 - accuracy: 0.9837 - val_loss: 2.3725 - val_accuracy: 0.7626 - 11s/epoch - 16ms/step\n"
          ]
        }
      ]
    },
    {
      "cell_type": "code",
      "source": [
        "plt.plot(history.history['accuracy'])\n",
        "plt.plot(history.history['val_accuracy'])\n",
        "plt.title('Model Accuracy')\n",
        "plt.ylabel('Accuracy')\n",
        "plt.xlabel('Epoch')\n",
        "plt.legend(['train', 'test'], loc='upper left')\n",
        "plt.show()\n",
        "\n",
        "plt.plot(history.history['loss'])\n",
        "plt.plot(history.history['val_loss'])\n",
        "plt.title('Model Loss')\n",
        "plt.ylabel('Loss')\n",
        "plt.xlabel('Epoch')\n",
        "plt.legend(['train', 'test'], loc='upper left')\n",
        "plt.show()"
      ],
      "metadata": {
        "colab": {
          "base_uri": "https://localhost:8080/",
          "height": 927
        },
        "id": "fOrcgSmZDqat",
        "outputId": "f7364350-b6ad-4b2d-bbb0-1f05a72e6585"
      },
      "execution_count": 19,
      "outputs": [
        {
          "output_type": "display_data",
          "data": {
            "text/plain": [
              "<Figure size 640x480 with 1 Axes>"
            ],
            "image/png": "[encoded data removed]"
          },
          "metadata": {}
        },
        {
          "output_type": "display_data",
          "data": {
            "text/plain": [
              "<Figure size 640x480 with 1 Axes>"
            ],
            "image/png": "[encoded data removed]"
          },
          "metadata": {}
        }
      ]
    }
  ]
}